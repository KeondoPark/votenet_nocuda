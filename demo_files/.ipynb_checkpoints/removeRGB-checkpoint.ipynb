{
 "cells": [
  {
   "cell_type": "code",
   "execution_count": 6,
   "metadata": {},
   "outputs": [],
   "source": [
    "flag = 0\n",
    "count = 0\n",
    "\n",
    "filename ='classroom_unit3000.ply'\n",
    "filename = filename[:-4]\n",
    "\n",
    "with open(filename + '.ply','r') as input_file:\n",
    "    with open(filename + '_pc.ply','a+') as output_file:\n",
    "        lines = input_file.readlines()\n",
    "\n",
    "        for line in lines:\n",
    "            \n",
    "            count += 1\n",
    "\n",
    "            if 'end_header' in line:\n",
    "                flag = 1\n",
    "                output_file.write(line)\n",
    "                continue\n",
    "\n",
    "            if flag == 0:\n",
    "                if ('red' in line) or ('green' in line) or ('blue' in line):\n",
    "                    continue\n",
    "                else:\n",
    "                    output_file.write(line)\n",
    "                    continue\n",
    "\n",
    "            \n",
    "\n",
    "            if count % 2 == 0:\n",
    "                output_file.write(line)"
   ]
  },
  {
   "cell_type": "code",
   "execution_count": null,
   "metadata": {},
   "outputs": [],
   "source": []
  }
 ],
 "metadata": {
  "kernelspec": {
   "display_name": "Python 3",
   "language": "python",
   "name": "python3"
  },
  "language_info": {
   "codemirror_mode": {
    "name": "ipython",
    "version": 3
   },
   "file_extension": ".py",
   "mimetype": "text/x-python",
   "name": "python",
   "nbconvert_exporter": "python",
   "pygments_lexer": "ipython3",
   "version": "3.8.3"
  }
 },
 "nbformat": 4,
 "nbformat_minor": 4
}
